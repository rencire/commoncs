{
 "cells": [
  {
   "cell_type": "markdown",
   "metadata": {},
   "source": [
    "# Partition Problem"
   ]
  },
  {
   "cell_type": "markdown",
   "metadata": {},
   "source": [
    "Eric Ren\n",
    "\n",
    "Notes from Skiena, 2008.\n",
    "\n",
    "## Recurrence Relation\n",
    "Let's start with the recurrence relation.  Here is the math:\n",
    "\n",
    "$$S = [s_1, s_1,..., s_n], s \\in \\mathbb{R} $$\n",
    "\n",
    "\\begin{align} \n",
    "P(n, k) & = \\min_{i=1}^{n} \\max( P(i, k-1), \\sum_{j=i+1}^n s_j ) \\tag{0} \\\\\n",
    "P(1, k) & = s_1  \\tag{1} \\\\\n",
    "P(n, 1) & = \\sum_{i=1}^{n} s_i  \\tag{2} \n",
    "\\end{align}\n",
    "\n",
    "Unfortunately Python does not support pattern matching. Else we can write very idiomatic code that will look just like the recurrence above.\n",
    "\n",
    "\n",
    "Now on to the different approaches:\n"
   ]
  },
  {
   "cell_type": "markdown",
   "metadata": {},
   "source": [
    "## Recursive"
   ]
  },
  {
   "cell_type": "code",
   "execution_count": null,
   "metadata": {
    "collapsed": true
   },
   "outputs": [],
   "source": []
  },
  {
   "cell_type": "markdown",
   "metadata": {},
   "source": []
  },
  {
   "cell_type": "markdown",
   "metadata": {},
   "source": [
    "## Recursive w/ Memoization"
   ]
  },
  {
   "cell_type": "code",
   "execution_count": null,
   "metadata": {
    "collapsed": true
   },
   "outputs": [],
   "source": []
  },
  {
   "cell_type": "markdown",
   "metadata": {},
   "source": [
    "## Imperative"
   ]
  },
  {
   "cell_type": "code",
   "execution_count": 6,
   "metadata": {
    "collapsed": false
   },
   "outputs": [
    {
     "ename": "IndentationError",
     "evalue": "expected an indented block (<ipython-input-6-0a80a6f5be74>, line 46)",
     "output_type": "error",
     "traceback": [
      "\u001b[0;36m  File \u001b[0;32m\"<ipython-input-6-0a80a6f5be74>\"\u001b[0;36m, line \u001b[0;32m46\u001b[0m\n\u001b[0;31m    def print_items(collection, start, end):\u001b[0m\n\u001b[0m      ^\u001b[0m\n\u001b[0;31mIndentationError\u001b[0m\u001b[0;31m:\u001b[0m expected an indented block\n"
     ]
    }
   ],
   "source": [
    "# To better match the math equations above, collection starts at index 1 instead of 0\n",
    "\n",
    "def partition(collection, n, k):\n",
    "    if n == 0:\n",
    "        return \"No elements in collection to partition\"\n",
    "    \n",
    "    \n",
    "    # initialize matrix\n",
    "    m = [[float('inf')] * k for _ in range(n+1)]\n",
    "    d = [[-1] * k for _ in range(n+1)]\n",
    "    \n",
    "    # create prefix sums\n",
    "    prefix_sum = [0] * (n+1)\n",
    "    for i in range(1, n+1):\n",
    "        prefix_sum[i] = prefix_sum[i-1] + collection[i]    \n",
    "    \n",
    "    # Base case from eq (1) above\n",
    "    for i in range(1, n+1):\n",
    "        m[1][i] = collection[1]\n",
    "    \n",
    "    # Base case from eq (2) above\n",
    "    for i in range(1, n+1):\n",
    "        m[i][1] = prefix_sum[i]\n",
    "        \n",
    "    \n",
    "    # eq 0\n",
    "    for i in range(2, n+1):\n",
    "        for j in range(2, k+1):\n",
    "            for x in range(1, i):\n",
    "                cost = max(m[x][j-1].cost, prefix_sum[i]-prefix_sum[x])\n",
    "                if m[i][j] > cost:\n",
    "                    m[i][j] = cost\n",
    "                    d[i][j] = x\n",
    "                    \n",
    "                    \n",
    "          \n",
    "    reconstruct_partition(collection, d, n, k)\n",
    "\n",
    "    \n",
    "    \n",
    "def reconstruct_partition(collection, dividers, n, k):\n",
    "    \n",
    "    \n",
    "    \n",
    "    \n",
    "def print_items(collection, start, end):\n",
    "    \n",
    "                    \n",
    "\n",
    "        \n",
    "    \n",
    "    "
   ]
  },
  {
   "cell_type": "markdown",
   "metadata": {},
   "source": [
    "## Less imperative"
   ]
  },
  {
   "cell_type": "code",
   "execution_count": 7,
   "metadata": {
    "collapsed": false
   },
   "outputs": [
    {
     "ename": "SyntaxError",
     "evalue": "invalid syntax (<ipython-input-7-50dd0a53b5a6>, line 1)",
     "output_type": "error",
     "traceback": [
      "\u001b[0;36m  File \u001b[0;32m\"<ipython-input-7-50dd0a53b5a6>\"\u001b[0;36m, line \u001b[0;32m1\u001b[0m\n\u001b[0;31m    def partition()\u001b[0m\n\u001b[0m                   ^\u001b[0m\n\u001b[0;31mSyntaxError\u001b[0m\u001b[0;31m:\u001b[0m invalid syntax\n"
     ]
    }
   ],
   "source": [
    "def partition()"
   ]
  },
  {
   "cell_type": "markdown",
   "metadata": {},
   "source": [
    "## More \"functional\"\n",
    "This probably is not efficient in python. But in languages that do optimize for tail recursion, this can result in the same performance as using loops.\n"
   ]
  },
  {
   "cell_type": "markdown",
   "metadata": {},
   "source": [
    "## Not enough memory... Generators to the rescue!\n",
    "\n",
    "Now lets say that we can't initialize all that memory in the \n"
   ]
  }
 ],
 "metadata": {
  "kernelspec": {
   "display_name": "Python 3",
   "language": "python",
   "name": "python3"
  },
  "language_info": {
   "codemirror_mode": {
    "name": "ipython",
    "version": 3
   },
   "file_extension": ".py",
   "mimetype": "text/x-python",
   "name": "python",
   "nbconvert_exporter": "python",
   "pygments_lexer": "ipython3",
   "version": "3.5.1"
  }
 },
 "nbformat": 4,
 "nbformat_minor": 1
}
